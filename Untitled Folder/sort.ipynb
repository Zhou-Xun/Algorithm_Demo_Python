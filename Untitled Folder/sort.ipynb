{
 "cells": [
  {
   "cell_type": "markdown",
   "id": "dress-owner",
   "metadata": {},
   "source": [
    "#### 时间复杂度"
   ]
  },
  {
   "cell_type": "markdown",
   "id": "annoying-community",
   "metadata": {},
   "source": [
    "- 确定问题规模\n",
    "- 循环减半 → $logn$\n",
    "- k层关于n的循环 → $n^k$"
   ]
  },
  {
   "cell_type": "markdown",
   "id": "creative-explosion",
   "metadata": {},
   "source": [
    "时间复杂度记为$ O(log_2^n) $ ， 当算法过程出现循环折半，就会出现这个复杂度"
   ]
  },
  {
   "cell_type": "code",
   "execution_count": 2,
   "id": "affected-waste",
   "metadata": {},
   "outputs": [],
   "source": [
    "n = 64\n",
    "while n > 1:\n",
    "    n = n//2"
   ]
  },
  {
   "cell_type": "markdown",
   "id": "employed-hammer",
   "metadata": {},
   "source": [
    "#### 空间复杂度： 用来评估算法内存占用大小的式子，算法追求空间换时间"
   ]
  },
  {
   "cell_type": "markdown",
   "id": "attended-sound",
   "metadata": {},
   "source": [
    "- 算法使用了几个变量：O(1)\n",
    "- 算法使用了长度为n的一维列表：O(n)\n",
    "- 算法使用了m行n列的二维列表：O(mn)"
   ]
  },
  {
   "cell_type": "markdown",
   "id": "forty-honey",
   "metadata": {},
   "source": [
    "#### 递归（recursion）\n",
    "- 递归的两个特点\n",
    "    - 调用自身\n",
    "    - 结束条件"
   ]
  },
  {
   "cell_type": "code",
   "execution_count": 1,
   "id": "renewable-scroll",
   "metadata": {},
   "outputs": [],
   "source": [
    "def func(x):\n",
    "    if x > 0:\n",
    "        func(x-1)"
   ]
  },
  {
   "cell_type": "code",
   "execution_count": 2,
   "id": "ecological-thing",
   "metadata": {},
   "outputs": [
    {
     "name": "stdout",
     "output_type": "stream",
     "text": [
      "moving from A to B\n",
      "moving from A to C\n",
      "moving from B to C\n"
     ]
    }
   ],
   "source": [
    "# 汉诺塔问题\n",
    "def hanoi(n, a, b, c):\n",
    "    if n > 0:\n",
    "        hanoi(n-1, a, c, b)\n",
    "        print(\"moving from %s to %s\" % (a,c))\n",
    "        hanoi(n-1, b, a, c)\n",
    "hanoi(2, 'A', 'B', 'C')"
   ]
  },
  {
   "cell_type": "markdown",
   "id": "fabulous-message",
   "metadata": {},
   "source": [
    "#### 排序"
   ]
  },
  {
   "cell_type": "markdown",
   "id": "least-vacuum",
   "metadata": {},
   "source": [
    "- 冒泡排序\n",
    "- 选择排序\n",
    "- 插入排序"
   ]
  },
  {
   "cell_type": "markdown",
   "id": "french-staff",
   "metadata": {},
   "source": [
    "1. 冒泡排序：两两比较交换位置，每一次都能排出一个最大值"
   ]
  },
  {
   "cell_type": "code",
   "execution_count": 3,
   "id": "received-chart",
   "metadata": {},
   "outputs": [],
   "source": [
    "def bubble_sort(li):\n",
    "    for i in range(len(li)-1):\n",
    "        exchange = False\n",
    "        for j in range(len(li)-i-1):\n",
    "            if li[j] > li[j+1]:\n",
    "                li[j], li[j+1] = li[j+1], li[j]\n",
    "                exchange = True\n",
    "        if not exchange:\n",
    "            return "
   ]
  },
  {
   "cell_type": "markdown",
   "id": "lonely-spine",
   "metadata": {},
   "source": [
    "2. 选择排序：每次选出最小的放入结果数组"
   ]
  },
  {
   "cell_type": "code",
   "execution_count": 7,
   "id": "liquid-vitamin",
   "metadata": {},
   "outputs": [],
   "source": [
    "def select_sort(li):\n",
    "    temp = []\n",
    "    for i in range(len(li)-1):\n",
    "        min_loc = i\n",
    "        for j in range(i+1, len(li)):\n",
    "            if li[j] < li[i]:\n",
    "                min_loc = j\n",
    "        li[i], li[min_loc] = li[mic_loc], li[i]"
   ]
  },
  {
   "cell_type": "markdown",
   "id": "pursuant-sterling",
   "metadata": {},
   "source": [
    "3. 插入排序：每次从无序区中抽一个数放到有序区中正确的位置"
   ]
  },
  {
   "cell_type": "code",
   "execution_count": 8,
   "id": "representative-director",
   "metadata": {},
   "outputs": [],
   "source": [
    "def insert_sort(li):\n",
    "    for i in range(1, len(li)):\n",
    "        tmp = li[i]\n",
    "        j = i - 1\n",
    "        while j >= 0 and li[j] > tmp:\n",
    "            li[j+1] = li[j]\n",
    "            j -= 1\n",
    "        li[j+1] = tmp"
   ]
  },
  {
   "cell_type": "markdown",
   "id": "incorporated-midwest",
   "metadata": {},
   "source": [
    "4. 快速排序"
   ]
  },
  {
   "cell_type": "code",
   "execution_count": 32,
   "id": "noticed-complex",
   "metadata": {},
   "outputs": [],
   "source": [
    "def partition(arr, low, high):\n",
    "    i = low - 1\n",
    "    pivot = arr[high]\n",
    "    for j in range(low, high):\n",
    "        if arr[j] < pivot:\n",
    "            i += 1\n",
    "            arr[i], arr[j] = arr[j], arr[i]\n",
    "    arr[i+1], arr[high] = arr[high], arr[i+1]\n",
    "    return i + 1"
   ]
  },
  {
   "cell_type": "code",
   "execution_count": 33,
   "id": "annual-december",
   "metadata": {},
   "outputs": [],
   "source": [
    "def quick_sort(arr, low, high):\n",
    "    if low < high:\n",
    "        p = partition(arr, low, high)\n",
    "        quick_sort(arr, low, p-1)\n",
    "        quick_sort(arr, p+1, high)"
   ]
  },
  {
   "cell_type": "code",
   "execution_count": 34,
   "id": "senior-blind",
   "metadata": {},
   "outputs": [
    {
     "name": "stdout",
     "output_type": "stream",
     "text": [
      "[1, 2, 3, 4, 5, 6, 7, 8, 9]\n"
     ]
    }
   ],
   "source": [
    "li = [5,7,4,6,3,1,2,9,8]\n",
    "quick_sort(li, 0, len(li)-1)\n",
    "print(li)"
   ]
  },
  {
   "cell_type": "markdown",
   "id": "worse-compilation",
   "metadata": {},
   "source": [
    "5. 堆排序"
   ]
  },
  {
   "cell_type": "markdown",
   "id": "fixed-ethnic",
   "metadata": {},
   "source": [
    "基础知识\n",
    "- 树的度， 一个节点分出来的节点数， 二叉树就是度不超过2的树\n",
    "- 满二叉树：二叉树每层的节点达到最大值\n",
    "- 完全二叉树：叶子节点只出现在最下层和次下层，最下层的叶子节点集中在该层最左边的若干位置\n",
    "- 二叉树的顺序存储方式：列表存储，若父节点为i，左右子节点分别为2i+1和2i+2\n",
    "- 子节点为i，父节点下标为(i-1)//2"
   ]
  },
  {
   "cell_type": "markdown",
   "id": "regulation-broadway",
   "metadata": {},
   "source": [
    "堆是一种特殊的完全二叉树<br>\n",
    "大根堆：任一节点都比其他孩子节点大<br>\n",
    "小根堆：任一节点都比其他孩子节点小"
   ]
  },
  {
   "cell_type": "markdown",
   "id": "right-possession",
   "metadata": {},
   "source": [
    "堆排序算法\n",
    "1. 建立堆，得到堆顶最大元素\n",
    "2. 去掉堆顶，将堆最后一个元素放到堆顶\n",
    "3. 对堆顶元素向下调整，重新得到一个大根堆\n",
    "4. 重复1-3步骤\n",
    "5. 空间节省，放下的最大元素与堆最后一个元素进行位置交换"
   ]
  },
  {
   "cell_type": "code",
   "execution_count": 40,
   "id": "synthetic-jimmy",
   "metadata": {},
   "outputs": [],
   "source": [
    "# 向下调整\n",
    "def sift(arr, low, high):\n",
    "    \"\"\"\n",
    "    low: 堆的根节点位置\n",
    "    high: 堆的最后一个元素位置\n",
    "    \"\"\"\n",
    "    i = low\n",
    "    j = 2*i+1 # j开始是i的左子节点\n",
    "    tmp = arr[low]\n",
    "    while j <= high: # 只要j有位置\n",
    "        if j + 1 <= high and arr[j+1] > arr[j]: # 如果有右子节点且右子节点比左子节点大\n",
    "            j = j + 1\n",
    "        if arr[j] > tmp: # 需要向下调整\n",
    "            arr[i] = arr[j]\n",
    "            i = j\n",
    "            j = i*2+1\n",
    "        else:\n",
    "            break\n",
    "    arr[i] = tmp"
   ]
  },
  {
   "cell_type": "code",
   "execution_count": 41,
   "id": "sitting-european",
   "metadata": {},
   "outputs": [],
   "source": [
    "# 开始堆排序\n",
    "def heap_sort(arr):\n",
    "    n = len(arr)\n",
    "    # 从最后一个父节点开始自下往上建堆\n",
    "    for i in range((n-2)//2, -1, -1):\n",
    "        sift(arr, i, n-1)\n",
    "    # 建堆完成\n",
    "    # 接下来不断去出堆顶元素放到堆尾，并不断重建堆\n",
    "    for i in range(n-1, -1, -1):\n",
    "        # i始终指向最后一个元素\n",
    "        # 交换首尾\n",
    "        arr[0], arr[i] = arr[i], arr[0]\n",
    "        # 重建堆\n",
    "        sift(arr, 0, i-1)"
   ]
  },
  {
   "cell_type": "code",
   "execution_count": 44,
   "id": "simple-cycling",
   "metadata": {},
   "outputs": [
    {
     "name": "stdout",
     "output_type": "stream",
     "text": [
      "[30, 1, 22, 52, 4, 53, 34, 33, 6, 92, 76, 51, 63, 26, 2, 89, 41, 91, 57, 46, 86, 55, 43, 87, 67, 44, 96, 50, 94, 93, 17, 59, 83, 18, 0, 66, 12, 31, 23, 48, 21, 8, 20, 40, 27, 25, 77, 14, 58, 99, 19, 39, 69, 32, 62, 81, 49, 97, 85, 60, 24, 54, 95, 84, 70, 90, 9, 47, 64, 73, 35, 71, 36, 10, 11, 37, 75, 78, 65, 13, 79, 61, 72, 68, 29, 74, 88, 80, 82, 98, 5, 45, 28, 3, 42, 38, 56, 15, 7, 16]\n",
      "After heap sort:\n",
      "[0, 1, 2, 3, 4, 5, 6, 7, 8, 9, 10, 11, 12, 13, 14, 15, 16, 17, 18, 19, 20, 21, 22, 23, 24, 25, 26, 27, 28, 29, 30, 31, 32, 33, 34, 35, 36, 37, 38, 39, 40, 41, 42, 43, 44, 45, 46, 47, 48, 49, 50, 51, 52, 53, 54, 55, 56, 57, 58, 59, 60, 61, 62, 63, 64, 65, 66, 67, 68, 69, 70, 71, 72, 73, 74, 75, 76, 77, 78, 79, 80, 81, 82, 83, 84, 85, 86, 87, 88, 89, 90, 91, 92, 93, 94, 95, 96, 97, 98, 99]\n"
     ]
    }
   ],
   "source": [
    "arr = [i for i in range(100)]\n",
    "import random\n",
    "random.shuffle(arr)\n",
    "print(arr)\n",
    "heap_sort(arr)\n",
    "print(\"After heap sort:\")\n",
    "print(arr)"
   ]
  },
  {
   "cell_type": "markdown",
   "id": "developmental-philosophy",
   "metadata": {},
   "source": [
    "堆排序的时间复杂同快排一样同样是$ O(nlog_2^n) $， 但在实际表现中，快排更快"
   ]
  },
  {
   "cell_type": "markdown",
   "id": "basic-grove",
   "metadata": {},
   "source": [
    "堆的内置模块，heapq"
   ]
  },
  {
   "cell_type": "code",
   "execution_count": 49,
   "id": "strategic-medium",
   "metadata": {},
   "outputs": [
    {
     "name": "stdout",
     "output_type": "stream",
     "text": [
      "[1, 2, 3, 5, 23, 54, 132]\n",
      "[1, 2, 3, 5, 23, 54, 132]\n",
      "[(1, 0.16), (0, 0.07)]\n"
     ]
    }
   ],
   "source": [
    "import heapq\n",
    "nums = [3,2,5,1,54,23,132]\n",
    "heap = []\n",
    "for num in nums:\n",
    "    heapq.heappush(heap, num)\n",
    "print([heapq.heappop(heap) for _ in range(len(nums))])\n",
    "\n",
    "nums = [3,2,5,1,54,23,132]\n",
    "heapq.heapify(nums)\n",
    "print([heapq.heappop(nums) for _ in range(len(nums))])\n",
    "\n",
    "dic = {0: 0.07, 1: 0.16, 2: 0.01}\n",
    "max_n = heapq.nlargest(2, dic.items(), key = lambda x: x[1])\n",
    "print(max_n)"
   ]
  },
  {
   "cell_type": "markdown",
   "id": "marine-georgia",
   "metadata": {},
   "source": [
    "6. 归并排序"
   ]
  },
  {
   "cell_type": "code",
   "execution_count": 50,
   "id": "superior-network",
   "metadata": {},
   "outputs": [],
   "source": [
    "def merge(arr, l, m, r):\n",
    "    # 默认l到m和m+1到r都已排好，现在要从l到r排好\n",
    "    n1 = m-l+1\n",
    "    n2 = r-m\n",
    "    # 创建临时数组\n",
    "    L = [0]*n1\n",
    "    R = [0]*n2\n",
    "    for i in range(n1):\n",
    "        L[i] = arr[l+i]\n",
    "    for i in range(n2):\n",
    "        R[i] = arr[m+1+i]\n",
    "    # 开始归并\n",
    "    i, j, k = 0, 0, l\n",
    "    while i<n1 and j<n2:\n",
    "        if L[i] <= R[j]:\n",
    "            arr[k] = L[i]\n",
    "            i += 1\n",
    "        else:\n",
    "            arr[k] = R[j]\n",
    "            j += 1\n",
    "        k += 1\n",
    "    while i < n1:\n",
    "        arr[k] = L[i]\n",
    "        i += 1\n",
    "        k += 1\n",
    "    while j < n2:\n",
    "        arr[k] = R[j]\n",
    "        j += 1\n",
    "        k += 1"
   ]
  },
  {
   "cell_type": "code",
   "execution_count": 53,
   "id": "artistic-timing",
   "metadata": {},
   "outputs": [],
   "source": [
    "def merge_sort(arr, l, r):\n",
    "    if l < r:\n",
    "        m = (l+r)//2\n",
    "        merge_sort(arr, l ,m)\n",
    "        merge_sort(arr, m+1, r)\n",
    "        merge(arr, l, m, r)"
   ]
  },
  {
   "cell_type": "code",
   "execution_count": 56,
   "id": "fabulous-dragon",
   "metadata": {},
   "outputs": [
    {
     "name": "stdout",
     "output_type": "stream",
     "text": [
      "[79, 69, 19, 44, 95, 52, 98, 94, 42, 97, 84, 78, 31, 76, 26, 43, 68, 16, 28, 22, 5, 49, 55, 80, 0, 90, 82, 91, 18, 61, 86, 8, 27, 12, 73, 70, 24, 92, 48, 36, 11, 87, 17, 1, 51, 46, 57, 60, 71, 85, 63, 38, 15, 56, 23, 13, 89, 33, 77, 50, 81, 83, 40, 53, 25, 58, 64, 37, 67, 21, 54, 14, 62, 93, 34, 39, 65, 74, 66, 88, 75, 20, 59, 45, 35, 7, 6, 2, 10, 29, 99, 32, 41, 30, 96, 4, 47, 72, 9, 3]\n",
      "After heap sort:\n",
      "[0, 1, 2, 3, 4, 5, 6, 7, 8, 9, 10, 11, 12, 13, 14, 15, 16, 17, 18, 19, 20, 21, 22, 23, 24, 25, 26, 27, 28, 29, 30, 31, 32, 33, 34, 35, 36, 37, 38, 39, 40, 41, 42, 43, 44, 45, 46, 47, 48, 49, 50, 51, 52, 53, 54, 55, 56, 57, 58, 59, 60, 61, 62, 63, 64, 65, 66, 67, 68, 69, 70, 71, 72, 73, 74, 75, 76, 77, 78, 79, 80, 81, 82, 83, 84, 85, 86, 87, 88, 89, 90, 91, 92, 93, 94, 95, 96, 97, 98, 99]\n"
     ]
    }
   ],
   "source": [
    "arr = [i for i in range(100)]\n",
    "import random\n",
    "random.shuffle(arr)\n",
    "print(arr)\n",
    "merge_sort(arr, 0, len(arr)-1)\n",
    "print(\"After heap sort:\")\n",
    "print(arr)"
   ]
  },
  {
   "cell_type": "code",
   "execution_count": null,
   "id": "nonprofit-relative",
   "metadata": {},
   "outputs": [],
   "source": []
  }
 ],
 "metadata": {
  "kernelspec": {
   "display_name": "Python 3",
   "language": "python",
   "name": "python3"
  },
  "language_info": {
   "codemirror_mode": {
    "name": "ipython",
    "version": 3
   },
   "file_extension": ".py",
   "mimetype": "text/x-python",
   "name": "python",
   "nbconvert_exporter": "python",
   "pygments_lexer": "ipython3",
   "version": "3.8.8"
  }
 },
 "nbformat": 4,
 "nbformat_minor": 5
}
